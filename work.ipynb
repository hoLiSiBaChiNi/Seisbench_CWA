{
 "cells": [
  {
   "cell_type": "code",
   "execution_count": null,
   "id": "ee760a4b",
   "metadata": {},
   "outputs": [],
   "source": [
    "import script as sc\n",
    "\n",
    "import re\n",
    "import glob\n",
    "import math\n",
    "import csv\n",
    "import sys\n",
    "import os\n",
    "import struct\n",
    "import json\n",
    "import numpy as np\n",
    "import glob\n",
    "import matplotlib.pyplot as plt\n",
    "from datetime import datetime, timedelta\n",
    "from obspy import UTCDateTime, Stream, Trace\n",
    "from tqdm.notebook import tqdm\n",
    "import seisbench\n",
    "import seisbench.models as sbm"
   ]
  },
  {
   "cell_type": "code",
   "execution_count": null,
   "id": "2d51bbaf",
   "metadata": {},
   "outputs": [],
   "source": [
    "Afile_list = glob.glob(\"*.A*\")"
   ]
  },
  {
   "cell_type": "code",
   "execution_count": null,
   "id": "2b7af933",
   "metadata": {},
   "outputs": [],
   "source": [
    "Pfile_list = glob.glob(\"[0-9]*.P*\")"
   ]
  },
  {
   "cell_type": "code",
   "execution_count": null,
   "id": "caa8edd4",
   "metadata": {},
   "outputs": [],
   "source": [
    "Afile_list"
   ]
  },
  {
   "cell_type": "code",
   "execution_count": null,
   "id": "c82b1943",
   "metadata": {},
   "outputs": [],
   "source": [
    "Pfile_list"
   ]
  },
  {
   "cell_type": "markdown",
   "id": "322e87c8",
   "metadata": {},
   "source": [
    "# 記得先在當前目錄建立Pfile_repo資料夾"
   ]
  },
  {
   "cell_type": "markdown",
   "id": "65d6d84d",
   "metadata": {},
   "source": [
    "### 跑多筆資料"
   ]
  },
  {
   "cell_type": "code",
   "execution_count": null,
   "id": "3a2d4c99",
   "metadata": {},
   "outputs": [],
   "source": [
    "##########\n",
    "#Parameter\n",
    "net = [\"BB\",\"BH\",\"SMT\",\"OBS\",\"CSMT\",\"BATS\",\"YMS\"]\n",
    "dataset = \"original\"\n",
    "model = sc.sbm.EQTransformer.from_pretrained(dataset)\n",
    "path = \".\\\\Pfile_repo\"\n",
    "##########\n",
    "all_diff_arrivaltime_P = {}\n",
    "all_diff_arrivaltime_S = {}\n",
    "lost = 0\n",
    "for ind, ele in enumerate (tqdm(Afile_list)):\n",
    "    try:\n",
    "        tmp_Afile = sc.unpackAfile(ele)\n",
    "        tmp_Pfile = sc.unpackPfile(Pfile_list[ind])\n",
    "    except:\n",
    "        lost += 1\n",
    "        continue\n",
    "    tmp_Afile_T = sc.RSD_transform(sc.network_filter(tmp_Afile, net))\n",
    "    tmp_Pdict = sc.predict_dict(tmp_Afile_T, model)\n",
    "    tmp_PArrivaltime = sc.preds_arrivaltime(tmp_Pdict)\n",
    "    if tmp_PArrivaltime =={}:\n",
    "        lost += 1\n",
    "        continue\n",
    "    sc.make_P_file(tmp_PArrivaltime, path)\n",
    "    tmp_diff_arrivaltime_P = sc.diff_arravialtime_P(tmp_PArrivaltime, tmp_Pfile)\n",
    "    all_diff_arrivaltime_P[ele] = (tmp_diff_arrivaltime_P)\n",
    "    tmp_diff_arrivaltime_S = sc.diff_arravialtime_S(tmp_PArrivaltime, tmp_Pfile)\n",
    "    all_diff_arrivaltime_S[ele] = (tmp_diff_arrivaltime_S)\n",
    "\n",
    "year = tmp_Pfile[\"ori_time\"].year\n",
    "month = tmp_Pfile[\"ori_time\"].month\n",
    "day = tmp_Pfile[\"ori_time\"].day\n",
    "date = f\"{year}_{month}_{day}\"\n",
    "\n",
    "with open(\"all_diff_arrivaltime_P.json\", \"w\") as fp:\n",
    "    json.dump(all_diff_arrivaltime_P, fp)\n",
    "with open(\"all_diff_arrivaltime_S.json\", \"w\") as fp:\n",
    "    json.dump(all_diff_arrivaltime_S, fp)\n",
    "with open(\"info.txt\",\"w\") as fp:\n",
    "    fp.write(\"Date : \" + date)\n",
    "    fp.write(\"\\n\")\n",
    "    fp.write(f\"Numbers_of_event : {len(Afile_list)}\")\n",
    "    fp.write(\"\\n\")\n",
    "    fp.write(f\"Dataset : {dataset}\")\n",
    "    fp.write(\"\\n\")\n",
    "    fp.write(f\"Model : {model.name}\")\n",
    "    fp.write(\"\\n\")\n",
    "    fp.write(f\"available : {len(Afile_list) - lost}\")\n",
    "    fp.write(\"\\n\")\n",
    "    fp.write(f\"unavailable : {lost}\")"
   ]
  },
  {
   "cell_type": "code",
   "execution_count": null,
   "id": "20120d2c",
   "metadata": {},
   "outputs": [],
   "source": [
    "sc.plot_arrival_P(\"all_diff_arrivaltime_P.json\", \"info.txt\")\n",
    "sc.plot_arrival_S(\"all_diff_arrivaltime_S.json\", \"info.txt\")"
   ]
  },
  {
   "cell_type": "code",
   "execution_count": null,
   "id": "bfb9db6c",
   "metadata": {},
   "outputs": [],
   "source": []
  }
 ],
 "metadata": {
  "kernelspec": {
   "display_name": "Python(seismic)",
   "language": "python",
   "name": "seismic"
  },
  "language_info": {
   "codemirror_mode": {
    "name": "ipython",
    "version": 3
   },
   "file_extension": ".py",
   "mimetype": "text/x-python",
   "name": "python",
   "nbconvert_exporter": "python",
   "pygments_lexer": "ipython3",
   "version": "3.7.12"
  }
 },
 "nbformat": 4,
 "nbformat_minor": 5
}
